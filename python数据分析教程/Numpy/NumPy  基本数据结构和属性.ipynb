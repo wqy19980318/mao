{
 "cells": [
  {
   "cell_type": "markdown",
   "metadata": {},
   "source": [
    "# NumPy  基本数据结构和属性"
   ]
  },
  {
   "cell_type": "markdown",
   "metadata": {},
   "source": [
    "1. `Numpy`是`Python`科学计算库,用于快速处理任意维度的数组\n",
    "\n",
    "2. `NumPy`提供一个**N维数组类型ndarray**，它描述了**相同类型**的“items”的集合。\n",
    "\n",
    "3. `ndarray`支持向量化运算\n",
    "\n",
    "4. `NumPy`使用c语言写的，底部解除了`GIL`，其对数组的操作速度不在受`python`解释器限制\n",
    "\n",
    "5. **ndarray**属性\n",
    "   | ndarray.shape   | 数组维度的元组        |\n",
    "   | ndarray.ndim    | 数组维数           |\n",
    "   | ndarray.size    | 数组中的元素数量      |\n",
    "   | ndarray.itemsize | 一个数组元素的长度(字节)  |\n",
    "   | ndarray.dtype   | 数组元素的类型        |"
   ]
  },
  {
   "cell_type": "code",
   "execution_count": null,
   "metadata": {},
   "outputs": [],
   "source": []
  }
 ],
 "metadata": {
  "kernelspec": {
   "display_name": "Python 3 (ipykernel)",
   "language": "python",
   "name": "python3"
  },
  "language_info": {
   "codemirror_mode": {
    "name": "ipython",
    "version": 3
   },
   "file_extension": ".py",
   "mimetype": "text/x-python",
   "name": "python",
   "nbconvert_exporter": "python",
   "pygments_lexer": "ipython3",
   "version": "3.7.16"
  },
  "toc": {
   "base_numbering": 1,
   "nav_menu": {},
   "number_sections": true,
   "sideBar": true,
   "skip_h1_title": false,
   "title_cell": "Table of Contents",
   "title_sidebar": "Contents",
   "toc_cell": false,
   "toc_position": {},
   "toc_section_display": true,
   "toc_window_display": false
  }
 },
 "nbformat": 4,
 "nbformat_minor": 2
}
